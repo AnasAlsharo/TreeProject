{
 "cells": [
  {
   "cell_type": "markdown",
   "id": "5eb1bba9-3da7-4736-8c05-07aeb64d20bb",
   "metadata": {},
   "source": [
    "___\n",
    "___\n",
    "\n",
    "## Parallel Computing Code\n",
    "___\n",
    "___\n"
   ]
  },
  {
   "cell_type": "markdown",
   "id": "81ae672f-8f9f-4e9a-8afb-ed28850269d6",
   "metadata": {
    "tags": []
   },
   "source": [
    "## 1) Defining Inputs and Directories."
   ]
  },
  {
   "cell_type": "code",
   "execution_count": 181,
   "id": "d6a4190c-7683-40fc-bb8b-b6786d9ed791",
   "metadata": {},
   "outputs": [],
   "source": [
    "% INITIATING INPUTS! \n",
    "inputs.nmin1 = 3; \n",
    "inputs.nmin2 = 1; \n",
    "inputs.OnlyTree = 1; \n",
    "inputs.Tria = 0; \n",
    "inputs.Dist = 1; \n",
    "inputs.MinCylRad = 0.0025;\n",
    "inputs.ParentCor = 1; \n",
    "inputs.TaperCor = 1; \n",
    "inputs.GrowthVolCor = 0; \n",
    "inputs.GrowthVolFac = 1.5; \n",
    "inputs.filter.k = 10;\n",
    "inputs.filter.radius = 0.00;\n",
    "inputs.filter.nsigma = 1.5;\n",
    "inputs.filter.PatchDiam1 = 0.05;\n",
    "inputs.filter.BallRad1 = 0.075;\n",
    "inputs.filter.ncomp = 2;\n",
    "inputs.filter.EdgeLength = 0.004;\n",
    "inputs.filter.plot = 1;\n",
    "inputs.name = 'tree'; \n",
    "inputs.tree = 1;\n",
    "inputs.model = 1;\n",
    "inputs.savemat = 1;\n",
    "inputs.savetxt = 1; \n",
    "inputs.plot = 0;\n",
    "inputs.disp = 0; \n",
    "\n",
    "% User Defined ------------------------------------------------------------------------------------------------------------------------------------------------------------\n",
    "% -------------------------------------------------------------------------------------------------------------------------------------------------------------------------\n",
    "\n",
    "no_of_iterations =  1;   % Number TRIALS OR ITERATIONS!\n",
    "       train_set = 18;\n",
    "       test_set  =  9;\n",
    " no_of_model_runs = 5;   % Each RUN for each tree will be repeated 5 times and the average DBH will be taken, The reason is that TreemQSM gives different results even for the same inputs.\n",
    "\n",
    "\n",
    "lasDirectory = '/mnt/storage/home/aaalshar/TreeQSM/src'; % YOU NEED TO CHANGE THIS! Directory where LAS files are located. \n",
    "lasFiles = dir(fullfile(lasDirectory, '*.las'));\n",
    "\n",
    "DBH_filepath = 'TreeQSM/src/insitu_forest_inventory_mod.xlsx'; % YOU NEED TO CHANGE THIS! Directory where DBH observed Data (Excel sheet) is located.\n",
    "\n",
    "train_range = ['D' num2str(2) ':D' num2str(train_set+1)]; % I am specifying the cells where the DBH data is stored ((from D2 to D21))\n",
    "test_range  = ['D' num2str(train_set+2) ':D' num2str(train_set+test_set+1)]; % Extract the cells containing test data.\n"
   ]
  },
  {
   "cell_type": "markdown",
   "id": "9f084ff9-43f8-4d6b-8f70-7aac4e1a0847",
   "metadata": {},
   "source": [
    "## 2) Saving the Point Clouds of the Training Set to Perform a Parallel Computing (Make_Models_Parallel).\n",
    "\n",
    "- Note: Letters were chosen instead of numbers (PA, PB,PC,...) because MATLAB sequence after 1 is 11, 12 and this will cause an issue when trying to compute RMSE. "
   ]
  },
  {
   "cell_type": "code",
   "execution_count": 182,
   "id": "b4d85db6-cced-4597-a12e-9f9ab1b22c18",
   "metadata": {},
   "outputs": [
    {
     "name": "stdout",
     "output_type": "stream",
     "text": [
      "-----------------------\n",
      "Saving Trees Completed!\n",
      "-----------------------\n"
     ]
    }
   ],
   "source": [
    "for tree = 1:train_set\n",
    "    name = lasFiles(tree).name;\n",
    "    lasReader = lasFileReader(name);\n",
    "    ptCloud = readPointCloud(lasReader);\n",
    "    P = ptCloud.Location - mean(ptCloud.Location);\n",
    "    var_name = ['P_' char(tree + 64)];\n",
    "    eval([var_name ' = P;']);\n",
    "end\n",
    "\n",
    "disp(\"-----------------------\")\n",
    "disp(\"Saving Trees Completed!\")\n",
    "disp(\"-----------------------\")\n",
    "\n",
    "variable_names = cell(1, train_set);\n",
    "for tree = 1:train_set\n",
    "    variable_names{tree} = ['P_' char(tree + 64)];\n",
    "end\n",
    "save('trees_train', variable_names{:});"
   ]
  },
  {
   "cell_type": "markdown",
   "id": "ee8e39f8-2c18-47fe-b7ad-597d9c61e666",
   "metadata": {},
   "source": [
    "## 3) Perform Training with parallel computing (Make_Models_Parallel)\n"
   ]
  },
  {
   "cell_type": "code",
   "execution_count": 184,
   "id": "5082139c-a00a-4fec-9ae2-cda081dc3abc",
   "metadata": {},
   "outputs": [
    {
     "name": "stdout",
     "output_type": "stream",
     "text": [
      "Modelling tree 1/18 (P_A):\n",
      "Modelling tree 2/18 (P_B):\n",
      "Modelling tree 3/18 (P_C):\n",
      "Modelling tree 4/18 (P_D):\n",
      "Modelling tree 5/18 (P_E):\n",
      "Modelling tree 6/18 (P_F):\n",
      "Modelling tree 7/18 (P_G):\n",
      "Modelling tree 8/18 (P_H):\n",
      "Modelling tree 9/18 (P_I):\n",
      "Modelling tree 10/18 (P_J):\n",
      "Modelling tree 11/18 (P_K):\n",
      "Modelling tree 12/18 (P_L):\n",
      "Modelling tree 13/18 (P_M):\n",
      "Modelling tree 14/18 (P_N):\n",
      "Modelling tree 15/18 (P_O):\n",
      "Modelling tree 16/18 (P_P):\n",
      "Modelling tree 17/18 (P_Q):\n",
      "Modelling tree 18/18 (P_R):\n",
      "--------Iteration (1) Completed\n"
     ]
    }
   ],
   "source": [
    "\n",
    "rmse_old=1e6; % Initiating a large value for RMSE just for the sake of comparison and storing the smallest RMSE. \n",
    "rmse_for_iteration= zeros(no_of_iterations, 1); % Creating an empty array to store RMSE for each trial (for monitoring purposes).\n",
    "\n",
    "DBH_obs = xlsread(DBH_filepath, train_range); % Here We're importing the array of the observed DBH.\n",
    "\n",
    "for iteration = 1:no_of_iterations % START THE TRIALS LOOP.\n",
    "\n",
    "inputs.PatchDiam1    = 0.05 + (0.10 - 0.05) * rand;  % The 0.05 is the lower limit and the 0.10 is the upper limit. [0.05 - 0.10]\n",
    "inputs.PatchDiam2Min = 0.02 + (0.06 - 0.02) * rand;  % The 0.02 is the lower limit and the 0.06 is the upper limit. [0.02 - 0.06]\n",
    "inputs.PatchDiam2Max = 0.03 + (0.15 - 0.03) * rand;  % The 0.03 is the lower limit and the 0.15 is the upper limit. [0.03 - 0.15]\n",
    "inputs.BallRad1 = inputs.PatchDiam1+0.015;\n",
    "inputs.BallRad2 = inputs.PatchDiam2Max+0.01;\n",
    "\n",
    "QSMs = make_models_parallel( 'trees_train' , 'QSMs trees' , no_of_model_runs , inputs );\n",
    "\n",
    "% Since the output data structure is complicated, I have to use nested loop to get the output DBH, the below nested loop is just averaging the DBH.\n",
    "DBH_qsm=zeros(train_set,1);\n",
    "final_params=zeros(4,1);\n",
    "\n",
    "k=1;\n",
    "for i = 1 : no_of_model_runs : no_of_model_runs*train_set\n",
    "DBH_array=[];\n",
    "\n",
    "c=1;\n",
    "    for j = i:i+no_of_model_runs-1\n",
    "        DBH = double(QSMs(j).treedata.DBHqsm);\n",
    "        DBH_array(c)= DBH;\n",
    "    end\n",
    "    avg_DBH=mean(DBH_array);\n",
    "\n",
    "DBH_qsm(k)=avg_DBH;\n",
    "k = k+1;\n",
    "end\n",
    "\n",
    "rmse_score = sqrt(mean((DBH_obs - DBH_qsm).^2));\n",
    "rmse_for_iteration(iteration)=rmse_score; % HERE I am storing the RMSE for each trial over the 20 trees (training set).\n",
    "if rmse_score < rmse_old\n",
    "% Store values in a 4x1 vector\n",
    "final_params = [inputs.PatchDiam1; inputs.PatchDiam2Min; inputs.PatchDiam2Max; rmse_score]; % FINAL RESULTS CONVENTION.\n",
    "rmse_old = rmse_score;\n",
    "\n",
    "end % End for the if statement.\n",
    "disp(['--------Iteration (' num2str(iteration) ') Completed']);\n",
    "end\n"
   ]
  },
  {
   "cell_type": "markdown",
   "id": "f54c45c9-04a4-487c-baea-af4c6a7a70b1",
   "metadata": {},
   "source": [
    "## 4) Performing testing on the ~30% of the trees! (After Parallel Computing)"
   ]
  },
  {
   "cell_type": "code",
   "execution_count": 185,
   "id": "b3a67a91-6850-4e9d-9efa-5fe2586338df",
   "metadata": {},
   "outputs": [
    {
     "name": "stdout",
     "output_type": "stream",
     "text": [
      "-----------------------\n",
      "Saving Trees Completed!\n",
      "-----------------------\n",
      "    \"Test DBH From Cells:\"    \"D20:D28\"\n",
      "\n",
      "Modelling tree 1/9 (P_test_A):\n",
      "Modelling tree 2/9 (P_test_B):\n",
      "Modelling tree 3/9 (P_test_C):\n",
      "Modelling tree 4/9 (P_test_D):\n",
      "Modelling tree 5/9 (P_test_E):\n",
      "Modelling tree 6/9 (P_test_F):\n",
      "Modelling tree 7/9 (P_test_G):\n",
      "Modelling tree 8/9 (P_test_H):\n",
      "Modelling tree 9/9 (P_test_I):\n",
      "Final Testing Results:\n",
      "   -----------------\n",
      "   DBH_qsm   DBH_obs\n",
      "   -------   -------\n",
      "   16.2384   32.1000\n",
      "   20.4956   12.0000\n",
      "   25.9059   19.0000\n",
      "   18.0383   27.8000\n",
      "   17.1906   20.9000\n",
      "   11.7543    6.9000\n",
      "   14.9588    5.0000\n",
      "   19.1035   24.0000\n",
      "   11.3234   38.2000\n",
      "\n"
     ]
    }
   ],
   "source": [
    "for tree = train_set+1:test_set+train_set\n",
    "    name = lasFiles(tree).name;\n",
    "    lasReader = lasFileReader(name);\n",
    "    ptCloud = readPointCloud(lasReader);\n",
    "    P = ptCloud.Location - mean(ptCloud.Location);\n",
    "    var_name = ['P_test_' char(tree + 46)];\n",
    "    eval([var_name ' = P;']);\n",
    "end\n",
    "\n",
    "disp(\"-----------------------\")\n",
    "disp(\"Saving Trees Completed!\")\n",
    "disp(\"-----------------------\")\n",
    "\n",
    "variable_names = cell(1, test_set);\n",
    "for tree = 1:test_set\n",
    "    variable_names{tree} = ['P_test_' char(tree + 64)];\n",
    "end\n",
    "save('trees_test', variable_names{:});\n",
    "\n",
    "inputs.PatchDiam1    = final_params(1); % NOW \n",
    "inputs.PatchDiam2Min = final_params(2); % THEY\n",
    "inputs.PatchDiam2Max = final_params(3); % ARE FIXED! \n",
    "inputs.BallRad1 = inputs.PatchDiam1+0.015;\n",
    "inputs.BallRad2 = inputs.PatchDiam2Max+0.01;\n",
    "\n",
    "disp([\"Test DBH From Cells:\" test_range])\n",
    "DBH_obs_test = xlsread(DBH_filepath, test_range); % Here We're importing the array of the observed DBH But now for testing.\n",
    "\n",
    "QSMs_test = make_models_parallel( 'trees_test' , 'QSMs trees test' , no_of_model_runs , inputs );\n",
    "\n",
    "k=1;\n",
    "DBH_qsm_test=[];\n",
    "for i = 1 : no_of_model_runs : no_of_model_runs*test_set\n",
    "DBH_array=[];\n",
    "    c=1;\n",
    "    for j = i:i+no_of_model_runs-1\n",
    "        DBH = double(QSMs(j).treedata.DBHqsm);\n",
    "        DBH_array(c)= DBH;\n",
    "    c=c+1;\n",
    "    end\n",
    "    avg_DBH=mean(DBH_array);\n",
    "\n",
    "DBH_qsm_test(k)=avg_DBH;\n",
    "k = k+1;\n",
    "end\n",
    "\n",
    "final_test_result(:,1)= 100*DBH_qsm_test;\n",
    "final_test_result(:,2)= DBH_obs_test;\n",
    "disp(\"Final Testing Results:\")\n",
    "disp(\"   -----------------\")\n",
    "disp(\"   DBH_qsm   DBH_obs\")\n",
    "disp(\"   -------   -------\")\n",
    "disp(final_test_result)"
   ]
  },
  {
   "cell_type": "markdown",
   "id": "dbdb6f6d-4424-4dbd-ae5d-7e0ac85c3349",
   "metadata": {},
   "source": [
    "___\n",
    "___"
   ]
  },
  {
   "cell_type": "markdown",
   "id": "a0b1e995-a1a3-42b3-95b8-25e1dac1fc44",
   "metadata": {},
   "source": [
    "## Appendix: Test on synthetic PCD.\n",
    "- In the below code , I created a PCD for a perfect cylinder to check the functionality of the TreeQSM. The cylinder is 0.3m in diameter and 10m high with 550,000 points. "
   ]
  },
  {
   "cell_type": "code",
   "execution_count": 173,
   "id": "54245701-1b3e-46df-ab92-318df11c561f",
   "metadata": {},
   "outputs": [
    {
     "name": "stdout",
     "output_type": "stream",
     "text": [
      "Starting QSM for Synthetic PCD\n",
      "DBH for Synthetic PCD is: 35.9285 cm\n",
      "Actual DBH is 40 cm\n"
     ]
    }
   ],
   "source": [
    "% TEST ON A CYLINDER! \n",
    "\n",
    "las_file= '/mnt/storage/home/aaalshar/TreeQSM/src/least_squares_fitting/cylinder_file.las';\n",
    "lasReader = lasFileReader(las_file);\n",
    "ptCloud = readPointCloud(lasReader);\n",
    "Pa = ptCloud.Location;\n",
    "Pa = Pa-mean(Pa);\n",
    "\n",
    "inputs.PatchDiam1    = 0.1;  \n",
    "inputs.PatchDiam2Min = 0.2; \n",
    "inputs.PatchDiam2Max = 0.4;  \n",
    "inputs.BallRad1 = inputs.PatchDiam1+0.015;\n",
    "inputs.BallRad2 = inputs.PatchDiam2Max+0.01;\n",
    "\n",
    "QSM = treeqsm(P, inputs);\n",
    "\n",
    "disp(\"Starting QSM for Synthetic PCD\")\n",
    "disp(['DBH for Synthetic PCD is: ', num2str(100*double(QSM.treedata.DBHqsm)), ' cm'])\n",
    "disp([\"Actual DBH is 40 cm\"])"
   ]
  },
  {
   "cell_type": "code",
   "execution_count": null,
   "id": "2b4bf348-c3c7-423e-b281-c907705fa1fe",
   "metadata": {},
   "outputs": [],
   "source": []
  }
 ],
 "metadata": {
  "kernelspec": {
   "display_name": "Matlab 2021a",
   "language": "matlab",
   "name": "uw-matlab-2021a-teaching"
  },
  "language_info": {
   "codemirror_mode": "octave",
   "file_extension": ".m",
   "help_links": [
    {
     "text": "MetaKernel Magics",
     "url": "https://metakernel.readthedocs.io/en/latest/source/README.html"
    }
   ],
   "mimetype": "text/x-octave",
   "name": "matlab",
   "version": "0.17.1"
  }
 },
 "nbformat": 4,
 "nbformat_minor": 5
}
