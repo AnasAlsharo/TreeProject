{
 "cells": [
  {
   "cell_type": "code",
   "execution_count": 6,
   "id": "e78a36f3-9fb6-4f90-b4a8-9bbff3a11ff8",
   "metadata": {
    "tags": []
   },
   "outputs": [
    {
     "name": "stdout",
     "output_type": "stream",
     "text": [
      "var1 = 10\n",
      "var2 = 2\n",
      "vec1 =\n",
      "\n",
      "   1\n",
      "   2\n",
      "   3\n",
      "\n",
      "m1 =\n",
      "\n",
      "   1   2   3\n",
      "   4   5   6\n",
      "   7   8   9\n",
      "\n",
      "ans =\n",
      "\n",
      "    2    3    4\n",
      "    6    7    8\n",
      "   10   11   12\n",
      "\n",
      "ans =\n",
      "\n",
      "   14   14   14\n",
      "   32   32   32\n",
      "   50   50   50\n",
      "\n"
     ]
    }
   ],
   "source": [
    "var1=10\n",
    "var2=2\n",
    "vec1=[1;2;3]\n",
    "m1=[1 2 3; 4 5 6;7 8 9]\n",
    "m2=[1 1 1; 2 2 2;3 3 3];\n",
    "m1+m2\n",
    "m1*m2"
   ]
  },
  {
   "cell_type": "code",
   "execution_count": null,
   "id": "fa5e6e77-d8df-4486-9650-d8b18fe45f57",
   "metadata": {},
   "outputs": [],
   "source": []
  }
 ],
 "metadata": {
  "kernelspec": {
   "display_name": "Octave",
   "language": "octave",
   "name": "octave"
  },
  "language_info": {
   "file_extension": ".m",
   "help_links": [
    {
     "text": "GNU Octave",
     "url": "https://www.gnu.org/software/octave/support.html"
    },
    {
     "text": "Octave Kernel",
     "url": "https://github.com/Calysto/octave_kernel"
    },
    {
     "text": "MetaKernel Magics",
     "url": "https://metakernel.readthedocs.io/en/latest/source/README.html"
    }
   ],
   "mimetype": "text/x-octave",
   "name": "octave",
   "version": "6.4.0"
  }
 },
 "nbformat": 4,
 "nbformat_minor": 5
}
